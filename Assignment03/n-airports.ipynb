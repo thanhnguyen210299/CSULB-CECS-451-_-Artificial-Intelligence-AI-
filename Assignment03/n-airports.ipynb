{
 "cells": [
  {
   "cell_type": "code",
   "execution_count": null,
   "metadata": {},
   "outputs": [
    {
     "data": {
      "text/plain": [
       "<module 'matplotlib.pyplot' from '/home/jmoon/.conda/envs/ai/lib/python3.11/site-packages/matplotlib/pyplot.py'>"
      ]
     },
     "execution_count": 9,
     "metadata": {},
     "output_type": "execute_result"
    },
    {
     "data": {
      "image/png": "[encoded data removed]",
      "text/plain": [
       "<Figure size 640x480 with 1 Axes>"
      ]
     },
     "metadata": {},
     "output_type": "display_data"
    }
   ],
   "source": [
    "import random\n",
    "import numpy as np\n",
    "\n",
    "num_city = 100\n",
    "num_air = 3\n",
    "num_center = 5\n",
    "sigma = 0.1\n",
    "cities = set()\n",
    "airports = []\n",
    "\n",
    "# Generate 100 random cities\n",
    "# These locations will not be changed\n",
    "for i in range(num_center):\n",
    "    x = random.random()\n",
    "    y = random.random()\n",
    "    xc = np.random.normal(x, sigma, num_city//num_center)\n",
    "    yc = np.random.normal(y, sigma, num_city//num_center)\n",
    "    cities = cities.union(zip(xc, yc))\n",
    "\n",
    "# Generate intitial random locations for 3 airports\n",
    "for i in range(num_air):\n",
    "    x = random.random()\n",
    "    y = random.random()\n",
    "    airports.append((x,y)) \n",
    "\n",
    "# Plot the initial state of the problem\n",
    "import matplotlib.pyplot as plt\n",
    "\n",
    "zip_cities = zip(*cities)\n",
    "plt.scatter(*zip_cities, marker='+',color='b', label='Cities')\n",
    "zip_airs = zip(*airports)\n",
    "plt.scatter(*zip_airs, marker='*', color='r', s=100, label='Airports')\n",
    "plt.legend()\n",
    "plt"
   ]
  },
  {
   "cell_type": "code",
   "execution_count": null,
   "metadata": {},
   "outputs": [],
   "source": [
    "# Step size - small positive constant\n",
    "alpha = 0.005\n",
    "\n",
    "# Number of repeat times\n",
    "iterations = 20\n",
    "\n",
    "# Create a set of closest cities for each airport\n",
    "cities_a1 = set()\n",
    "cities_a2 = set()\n",
    "cities_a3 = set()\n",
    "\n",
    "# Compute the objective function\n",
    "# Results are stored in fs for plotting\n",
    "# Return the objective function value\n",
    "def objective_function(airport, cities, fs):\n",
    "    obj_func = 0\n",
    "    for city in cities:\n",
    "        obj_func += ((airport[0] - city[0]) ** 2) + ((airport[1] - city[1]) ** 2)\n",
    "    return obj_func\n",
    "\n",
    "# Get the gradient values\n",
    "# Multiply it by 2 in order to move the airports closer\n",
    "def gradient(airport, cities):\n",
    "    dx = 0\n",
    "    dy = 0\n",
    "    for city in cities:\n",
    "        dx += airport[0] - city[0]\n",
    "        dy += airport[1] - city[1]\n",
    "    dx *= 2\n",
    "    dy *= 2\n",
    "\n",
    "    return dx, dy\n",
    "\n",
    "# Generate the closet cities set correspoding for each airport\n",
    "def get_closest_cities(cities):\n",
    "    for city in cities:\n",
    "        distance_a1 = ((airports[0][0] - city[0]) ** 2) + ((airport[0][0] - city[1]) ** 2)\n",
    "        distance_a2 = ((airports[1][0] - city[0]) ** 2) + ((airport[1][0] - city[1]) ** 2)\n",
    "        distance_a3 = ((airports[2][0] - city[0]) ** 2) + ((airport[2][0] - city[1]) ** 2)\n",
    "\n",
    "        if (distance_a1 < distance_a2 and distance_a1 < distance_a3):\n",
    "            cities_a1.add(city)\n",
    "        elif (distance_a2 < distance_a1 and distance_a2 < distance_a3):\n",
    "            cities_a2.add(city)\n",
    "        else:\n",
    "            cities_a3.add(city)\n",
    "    \n",
    "    return cities_a1, cities_a2, cities_a3\n",
    "\n",
    "# Create an empty list that will hold the objective function value\n",
    "fs = []\n",
    "\n",
    "for i in range(iterations):\n",
    "    # Update the set of closest cities for each airport\n",
    "    cities_a1, cities_a2, cities_a3 = get_closest_cities(cities)\n",
    "\n",
    "    # Calculate the objective function\n",
    "    objective_total = objective_function(airports[0], cities_a1, fs) + objective_function(airports[1], cities_a2, fs) + objective_function(airports[2], cities_a3, fs)\n",
    "    fs.append(objective_total)\n",
    "\n",
    "    # Calculate the gradient by taking the derivative of each coordinate\n",
    "    a1_x, a1_y = gradient(airport[0], cities_a1)\n",
    "    a2_x, a2_y = gradient(airport[1], cities_a2)\n",
    "    a3_x, a3_y = gradient(airport[2], cities_a3)\n",
    "\n",
    "    # Update airports' location\n",
    "    airports[0] = (airports[0][0] - alpha * a1_x, airports[0][1] - alpha * a1_y)\n",
    "    airports[1] = (airports[1][0] - alpha * a2_x, airports[1][1] - alpha * a2_y)\n",
    "    airports[3] = (airports[2][0] - alpha * a3_x, airports[2][1] - alpha * a3_y)\n",
    "\n",
    "    # Clear the set of closest cities of each airport after every trial\n",
    "    cities_a1.clear()\n",
    "    cities_a2.clear()\n",
    "    cities_a3.clear()\n",
    "\n",
    "\n",
    "# Plot the final state space\n",
    "zip_cities = zip(*cities)\n",
    "plt.scatter(*zip_cities, marker='+',color='b', label='Cities')\n",
    "zip_airs = zip(*airports)\n",
    "plt.scatter(*zip_airs, marker='*', color='r', s=100, label='Airports')\n",
    "plt.legend()\n",
    "plt"
   ]
  },
  {
   "cell_type": "code",
   "execution_count": null,
   "metadata": {},
   "outputs": [],
   "source": [
    "# Plot the fs values over the given range\n",
    "# x is the number of iterations\n",
    "# y is the objective function value over time\n",
    "xs = [x for x in range(len(fs))]\n",
    "ys = [y for y in fs]\n",
    "plt.scatter(xs, ys)"
   ]
  }
 ],
 "metadata": {
  "kernelspec": {
   "display_name": "Python 3 (ipykernel)",
   "language": "python",
   "name": "python3"
  },
  "language_info": {
   "codemirror_mode": {
    "name": "ipython",
    "version": 3
   },
   "file_extension": ".py",
   "mimetype": "text/x-python",
   "name": "python",
   "nbconvert_exporter": "python",
   "pygments_lexer": "ipython3",
   "version": "3.11.7"
  }
 },
 "nbformat": 4,
 "nbformat_minor": 4
}
